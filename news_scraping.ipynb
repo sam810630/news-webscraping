{
 "cells": [
  {
   "cell_type": "code",
   "execution_count": 1,
   "id": "e15ee6dc-1bcc-48b2-8b10-2c32b4bb33ea",
   "metadata": {
    "scrolled": true
   },
   "outputs": [
    {
     "name": "stdout",
     "output_type": "stream",
     "text": [
      "Requirement already satisfied: beautifulsoup4 in c:\\users\\admin\\anaconda3\\lib\\site-packages (4.12.3)\n",
      "Requirement already satisfied: requests in c:\\users\\admin\\anaconda3\\lib\\site-packages (2.32.3)\n",
      "Requirement already satisfied: soupsieve>1.2 in c:\\users\\admin\\anaconda3\\lib\\site-packages (from beautifulsoup4) (2.5)\n",
      "Requirement already satisfied: charset-normalizer<4,>=2 in c:\\users\\admin\\anaconda3\\lib\\site-packages (from requests) (3.3.2)\n",
      "Requirement already satisfied: idna<4,>=2.5 in c:\\users\\admin\\anaconda3\\lib\\site-packages (from requests) (3.7)\n",
      "Requirement already satisfied: urllib3<3,>=1.21.1 in c:\\users\\admin\\anaconda3\\lib\\site-packages (from requests) (2.2.3)\n",
      "Requirement already satisfied: certifi>=2017.4.17 in c:\\users\\admin\\anaconda3\\lib\\site-packages (from requests) (2024.8.30)\n"
     ]
    }
   ],
   "source": [
    "!pip install beautifulsoup4 requests"
   ]
  },
  {
   "cell_type": "code",
   "execution_count": 2,
   "id": "27af1ef8-9516-466a-813d-0ef41be50eef",
   "metadata": {},
   "outputs": [],
   "source": [
    "import requests\n",
    "from bs4 import BeautifulSoup"
   ]
  },
  {
   "cell_type": "code",
   "execution_count": 3,
   "id": "37850e5a-c667-4799-96cc-39eacdf8a600",
   "metadata": {},
   "outputs": [],
   "source": [
    "# 2. Define URL\n",
    "url = \"https://www.thehindu.com/news/national/\"\n",
    "\n",
    "# 3. Send HTTP request\n",
    "response = requests.get(url)\n",
    "soup = BeautifulSoup(response.content, 'html.parser')"
   ]
  },
  {
   "cell_type": "code",
   "execution_count": 4,
   "id": "a02ad87b-231e-41aa-814b-977c120b902a",
   "metadata": {},
   "outputs": [
    {
     "name": "stdout",
     "output_type": "stream",
     "text": [
      "📰 Latest National News Headlines from The Hindu:\n",
      "\n",
      "1. Rahul Gandhi slams ECI for asking affidavit under oath, says he has taken oath in Parliament\n",
      "   🔗 Link: https://www.thehindu.com/news/national/rahul-gandhi-slams-eci-for-asking-affidavit-under-oath-says-he-has-taken-oath-in-parliament/article69909275.ece\n",
      "\n",
      "2. Supreme Court proposes interim committee to manage Bankey Bihari temple\n",
      "   🔗 Link: https://www.thehindu.com/news/national/supreme-court-proposes-interim-committee-to-manage-bankey-bihari-temple/article69909056.ece\n",
      "\n",
      "3. Union Home Minister Amit Shah slams Opposition for opposing SIR over ‘vote bank politics’\n",
      "   🔗 Link: https://www.thehindu.com/news/national/bihar/union-home-minister-amit-shah-foundation-stone-maa-janaki-mandir-sitamarhi/article69909208.ece\n",
      "\n",
      "4. Opposition MPs protest against SIR, 'vote theft' in Parliament complex\n",
      "   🔗 Link: https://www.thehindu.com/news/national/opposition-mps-protest-against-sir-vote-theft-in-parliament-complex/article69908784.ece\n",
      "\n",
      "5. A week after publication of Bihar draft rolls, over 6,000 individual complaints filed, zero complaints by parties: ECI\n",
      "   🔗 Link: https://www.thehindu.com/elections/bihar-assembly/a-week-after-publication-of-bihar-draft-rolls-over-6000-individual-complaints-filed-zero-complaints-by-parties-eci/article69909770.ece\n",
      "\n",
      "6. ECI making erroneous claims on not receiving objections: CPI(ML) General Secretary\n",
      "   🔗 Link: https://www.thehindu.com/news/national/eci-making-erroneous-claims-on-not-receiving-objections-cpiml-general-secretary/article69909671.ece\n",
      "\n",
      "7. Cabinet approves ₹30,000 crore as compensation to OMCs for losses in domestic LPG\n",
      "   🔗 Link: https://www.thehindu.com/news/national/union-cabinet-announcements-by-ashwini-vaishnaw-on-august-8-2025/article69909441.ece\n",
      "\n",
      "8. India pauses plans to buy U.S. arms after Donald Trump’s tariffs, Reuters reports\n",
      "   🔗 Link: https://www.thehindu.com/news/national/india-pauses-plans-to-buy-us-arms-after-donald-trumps-tariffs/article69909626.ece\n",
      "\n",
      "9. SC refuses to hear plea seeking safety audit of Air India, asks why not other airlines\n",
      "   🔗 Link: https://www.thehindu.com/news/national/sc-refuses-to-hear-plea-seeking-safety-audit-of-air-india-asks-why-not-other-airlines/article69910058.ece\n",
      "\n",
      "10. ECI making erroneous claims on not receiving objections: CPI(ML) General Secretary\n",
      "   🔗 Link: https://www.thehindu.com/news/national/eci-making-erroneous-claims-on-not-receiving-objections-cpiml-general-secretary/article69909671.ece\n",
      "\n"
     ]
    }
   ],
   "source": [
    "# 4. Find all news articles (based on inspection of page)\n",
    "headlines = soup.find_all('h3', class_='title')\n",
    "\n",
    "# 5. Display the scraped headlines\n",
    "print(\"📰 Latest National News Headlines from The Hindu:\\n\")\n",
    "for i, headline in enumerate(headlines[:10], start=1):  # Limit to top 10\n",
    "    print(f\"{i}. {headline.text.strip()}\")\n",
    "    link = headline.find('a')['href']\n",
    "    print(f\"   🔗 Link: {link}\\n\")"
   ]
  },
  {
   "cell_type": "code",
   "execution_count": null,
   "id": "1c1bd528-9f5b-4021-af84-b5cbd971e6de",
   "metadata": {},
   "outputs": [],
   "source": []
  }
 ],
 "metadata": {
  "kernelspec": {
   "display_name": "Python 3 (ipykernel)",
   "language": "python",
   "name": "python3"
  },
  "language_info": {
   "codemirror_mode": {
    "name": "ipython",
    "version": 3
   },
   "file_extension": ".py",
   "mimetype": "text/x-python",
   "name": "python",
   "nbconvert_exporter": "python",
   "pygments_lexer": "ipython3",
   "version": "3.12.7"
  }
 },
 "nbformat": 4,
 "nbformat_minor": 5
}
